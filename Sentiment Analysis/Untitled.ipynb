{
 "cells": [
  {
   "cell_type": "code",
   "execution_count": 38,
   "metadata": {},
   "outputs": [],
   "source": [
    "import numpy as np\n",
    "import pandas as pd\n",
    "import pickle"
   ]
  },
  {
   "cell_type": "code",
   "execution_count": 39,
   "metadata": {},
   "outputs": [],
   "source": [
    "#dataFile=open('datasets/naive_bayes_data.txt','r+',encoding='utf-8')"
   ]
  },
  {
   "cell_type": "code",
   "execution_count": 40,
   "metadata": {},
   "outputs": [],
   "source": [
    "def dataReader():\n",
    "    with open('datasets/naive_bayes_data.txt','r+',encoding='utf-8') as file:\n",
    "        dataFile=file.read()\n",
    "    return dataFile"
   ]
  },
  {
   "cell_type": "code",
   "execution_count": 41,
   "metadata": {},
   "outputs": [],
   "source": [
    "def processList(entries):\n",
    "    lines=[]\n",
    "    trgt=[]\n",
    "    for entry in entries:        \n",
    "        trgt.append(entry[:entry.find(' ')])\n",
    "        value=entry[entry.find(' ')+1:]\n",
    "        \n",
    "        lines.append( (value[value.find(\"txt \"):]).replace('txt ','') )\n",
    "    return [lines, trgt]\n",
    "        "
   ]
  },
  {
   "cell_type": "code",
   "execution_count": 42,
   "metadata": {},
   "outputs": [],
   "source": [
    "def makeList(dataFile):\n",
    "    lines=[]\n",
    "    entries=dataFile.split('\\n')\n",
    "    for entry in entries:\n",
    "        lines.append(entry[entry.find(' ')+1:])\n",
    "    np.random.shuffle(lines)\n",
    "    return lines"
   ]
  },
  {
   "cell_type": "code",
   "execution_count": 43,
   "metadata": {},
   "outputs": [],
   "source": [
    "def testSplit(values):\n",
    "    num_of_rows = int(len(values) * 0.8)\n",
    "    train_data =values[:num_of_rows] \n",
    "    test_data = values[num_of_rows:]\n",
    "    return train_data,test_data"
   ]
  },
  {
   "cell_type": "code",
   "execution_count": 44,
   "metadata": {},
   "outputs": [],
   "source": [
    "def saveValues(lines):\n",
    "    with open('datasets/data.pkl','wb') as file:\n",
    "        pickle.dump(lines,file)"
   ]
  },
  {
   "cell_type": "code",
   "execution_count": 45,
   "metadata": {},
   "outputs": [],
   "source": [
    "def makeVocab(lines,target):\n",
    "    unwanted_chars = \".,-_ )!(?':;&/\\*\"\n",
    "    poswordfreq = {}\n",
    "    negwordfreq={}\n",
    "    count=0;\n",
    "    for words in lines: \n",
    "        words=words.split(' ')\n",
    "        for raw_word in words:\n",
    "            word = raw_word.strip(unwanted_chars)\n",
    "            if target[count]=='pos':\n",
    "                if word not in poswordfreq:\n",
    "                    poswordfreq[word] = 0 \n",
    "                poswordfreq[word] += 1\n",
    "            else:\n",
    "                if word not in negwordfreq:\n",
    "                    negwordfreq[word] = 0 \n",
    "                negwordfreq[word] += 1\n",
    "        count=count+1\n",
    "    del poswordfreq[\"\"]\n",
    "    del negwordfreq[\"\"]    \n",
    "    return poswordfreq,negwordfreq"
   ]
  },
  {
   "cell_type": "code",
   "execution_count": 46,
   "metadata": {},
   "outputs": [],
   "source": [
    "def findProbability(wordfreq):\n",
    "    length=sum(wordfreq.values())\n",
    "    for key in wordfreq:\n",
    "        wordfreq[key]=wordfreq.get(key)/length\n",
    "    return wordfreq\n",
    "    "
   ]
  },
  {
   "cell_type": "code",
   "execution_count": 47,
   "metadata": {},
   "outputs": [],
   "source": [
    "def findclassProbability(target):\n",
    "    poscount=target.count('pos')/len(target)\n",
    "    negcount=target.count('neg')/len(target)\n",
    "    return poscount,negcount"
   ]
  },
  {
   "cell_type": "code",
   "execution_count": 48,
   "metadata": {},
   "outputs": [],
   "source": [
    "def makePrediction(test_lines,posfreq,negfreq,pprob,nprob):\n",
    "    pred=[]\n",
    "    for line in test_lines:\n",
    "        line=line.split(' ')\n",
    "        posprob=1\n",
    "        negprob=1\n",
    "        for word in line:\n",
    "            if posfreq.get(word)!=None:\n",
    "                posprob=posprob*posfreq.get(word)\n",
    "            if negfreq.get(word)!=None:\n",
    "                negprob=negprob*negfreq.get(word)\n",
    "        posprob=posprob*pprob\n",
    "        negprob=nprob*negprob\n",
    "        if negprob>posprob:\n",
    "            pred.append('neg')\n",
    "        else:\n",
    "            pred.append('pos')\n",
    "    return pred"
   ]
  },
  {
   "cell_type": "code",
   "execution_count": 49,
   "metadata": {},
   "outputs": [],
   "source": [
    "def findError(pred,trgt):\n",
    "    error=0\n",
    "    for i in range(len(trgt)):\n",
    "         if pred[i]!=trgt[i]:\n",
    "                error=error+1\n",
    "    error=error/len(trgt)*100\n",
    "    return error\n",
    "        "
   ]
  },
  {
   "cell_type": "code",
   "execution_count": 50,
   "metadata": {},
   "outputs": [],
   "source": [
    "dataFile=dataReader()\n",
    "values=makeList(dataFile)\n",
    "train,test=testSplit(values)\n",
    "train_lines,train_target=processList(train)\n",
    "test_lines,test_target=processList(train)\n",
    "posfreq,negfreq=makeVocab(train_lines,train_target)"
   ]
  },
  {
   "cell_type": "code",
   "execution_count": 51,
   "metadata": {},
   "outputs": [],
   "source": [
    "posfreq=findProbability(posfreq)\n",
    "negfreq=findProbability(negfreq)"
   ]
  },
  {
   "cell_type": "code",
   "execution_count": 52,
   "metadata": {},
   "outputs": [],
   "source": [
    "posprob,negprob=findclassProbability(train_target)"
   ]
  },
  {
   "cell_type": "code",
   "execution_count": 53,
   "metadata": {},
   "outputs": [
    {
     "data": {
      "text/plain": [
       "64.62442299622325"
      ]
     },
     "execution_count": 53,
     "metadata": {},
     "output_type": "execute_result"
    }
   ],
   "source": [
    "pred=makePrediction(test_lines,posfreq,negfreq,posprob,negprob)\n",
    "error=findError(pred,test_target)\n",
    "error"
   ]
  },
  {
   "cell_type": "code",
   "execution_count": null,
   "metadata": {},
   "outputs": [],
   "source": []
  }
 ],
 "metadata": {
  "kernelspec": {
   "display_name": "Python 3",
   "language": "python",
   "name": "python3"
  },
  "language_info": {
   "codemirror_mode": {
    "name": "ipython",
    "version": 3
   },
   "file_extension": ".py",
   "mimetype": "text/x-python",
   "name": "python",
   "nbconvert_exporter": "python",
   "pygments_lexer": "ipython3",
   "version": "3.6.4"
  }
 },
 "nbformat": 4,
 "nbformat_minor": 2
}
